{
 "cells": [
  {
   "cell_type": "markdown",
   "id": "b9873111",
   "metadata": {},
   "source": [
    "# Phase 1: Data loading and preprocessing"
   ]
  },
  {
   "cell_type": "markdown",
   "id": "7d488043",
   "metadata": {},
   "source": [
    "'file' content is downloaded from: https://www.kaggle.com/datasets/ogbuokiriblessing/saxenophobia-tweet-dataset-2017-2022"
   ]
  },
  {
   "cell_type": "code",
   "execution_count": 70,
   "id": "890dcf82",
   "metadata": {},
   "outputs": [],
   "source": [
    "#Importing needed modules.\n",
    "\n",
    "from pandas import read_csv , concat , DataFrame \n",
    "from pickle import dump\n",
    "from matplotlib.pyplot import pie , title , show , plot ,legend , xlabel , ylabel\n",
    "from sklearn.model_selection import train_test_split\n",
    "from tensorflow.keras.preprocessing.text import Tokenizer\n",
    "from tensorflow.keras.preprocessing.sequence import pad_sequences\n",
    "from tensorflow.keras.layers import Embedding , GlobalMaxPooling1D , Dense\n",
    "from tensorflow.keras.models import Sequential\n",
    "\n",
    "#Instancing from \"Tokenizer\" object.\n",
    "\n",
    "tokenizer = Tokenizer(oov_token='<00U00>')"
   ]
  },
  {
   "cell_type": "code",
   "execution_count": 71,
   "id": "8d53582a",
   "metadata": {},
   "outputs": [
    {
     "data": {
      "text/html": [
       "<div>\n",
       "<style scoped>\n",
       "    .dataframe tbody tr th:only-of-type {\n",
       "        vertical-align: middle;\n",
       "    }\n",
       "\n",
       "    .dataframe tbody tr th {\n",
       "        vertical-align: top;\n",
       "    }\n",
       "\n",
       "    .dataframe thead th {\n",
       "        text-align: right;\n",
       "    }\n",
       "</style>\n",
       "<table border=\"1\" class=\"dataframe\">\n",
       "  <thead>\n",
       "    <tr style=\"text-align: right;\">\n",
       "      <th></th>\n",
       "      <th>Unnamed: 0</th>\n",
       "      <th>DateCreated</th>\n",
       "      <th>TimeCreated</th>\n",
       "      <th>CleanedTweet</th>\n",
       "      <th>Sentiment</th>\n",
       "      <th>Likes</th>\n",
       "      <th>No of replies</th>\n",
       "      <th>Language</th>\n",
       "      <th>Retweets</th>\n",
       "      <th>User Location</th>\n",
       "      <th>Tweet Origin</th>\n",
       "      <th>Coordinates</th>\n",
       "      <th>District</th>\n",
       "      <th>Province</th>\n",
       "      <th>Number of Attacks</th>\n",
       "    </tr>\n",
       "  </thead>\n",
       "  <tbody>\n",
       "    <tr>\n",
       "      <th>2632</th>\n",
       "      <td>2632</td>\n",
       "      <td>2022-04-03</td>\n",
       "      <td>20:09:26</td>\n",
       "      <td>They fought against the Cuba donation. They...</td>\n",
       "      <td>Positive</td>\n",
       "      <td>0</td>\n",
       "      <td>0</td>\n",
       "      <td>en</td>\n",
       "      <td>0</td>\n",
       "      <td>Ga-Matlala A Thaba, Moetagare</td>\n",
       "      <td>Springs</td>\n",
       "      <td>longitude=28.3884227, latitude=-26.3364754</td>\n",
       "      <td>Urban</td>\n",
       "      <td>Gauteng</td>\n",
       "      <td>0</td>\n",
       "    </tr>\n",
       "    <tr>\n",
       "      <th>12202</th>\n",
       "      <td>12202</td>\n",
       "      <td>2019-09-23</td>\n",
       "      <td>07:34:03</td>\n",
       "      <td>If they’ll authorize that damage then they mu...</td>\n",
       "      <td>neutral</td>\n",
       "      <td>1</td>\n",
       "      <td>0</td>\n",
       "      <td>en</td>\n",
       "      <td>0</td>\n",
       "      <td>Phokoane Ga-Sekhukhune Limpopo Province.</td>\n",
       "      <td>Randburg</td>\n",
       "      <td>longitude=27.8925632, latitude=-26.1368652</td>\n",
       "      <td>urban</td>\n",
       "      <td>Gauteng</td>\n",
       "      <td>0</td>\n",
       "    </tr>\n",
       "    <tr>\n",
       "      <th>8045</th>\n",
       "      <td>8045</td>\n",
       "      <td>2021-02-24</td>\n",
       "      <td>08:27:34</td>\n",
       "      <td>do you know where she was coming from?  has ...</td>\n",
       "      <td>Negative</td>\n",
       "      <td>0</td>\n",
       "      <td>2</td>\n",
       "      <td>en</td>\n",
       "      <td>0</td>\n",
       "      <td>Johannesburg, South Africa</td>\n",
       "      <td>Johannesburg</td>\n",
       "      <td>longitude=27.7518557, latitude=-26.5126489</td>\n",
       "      <td>Urban</td>\n",
       "      <td>Gauteng</td>\n",
       "      <td>0</td>\n",
       "    </tr>\n",
       "    <tr>\n",
       "      <th>935</th>\n",
       "      <td>935</td>\n",
       "      <td>2022-05-15</td>\n",
       "      <td>06:42:23</td>\n",
       "      <td>Everywhere !!</td>\n",
       "      <td>Positive</td>\n",
       "      <td>1</td>\n",
       "      <td>0</td>\n",
       "      <td>en</td>\n",
       "      <td>0</td>\n",
       "      <td>Krugersdorp, South Africa</td>\n",
       "      <td>Munsieville</td>\n",
       "      <td>longitude=27.7462384, latitude=-26.0830053</td>\n",
       "      <td>Rural</td>\n",
       "      <td>Gauteng</td>\n",
       "      <td>0</td>\n",
       "    </tr>\n",
       "    <tr>\n",
       "      <th>4759</th>\n",
       "      <td>4759</td>\n",
       "      <td>2022-02-23</td>\n",
       "      <td>09:55:41</td>\n",
       "      <td>Khoza is a smal...</td>\n",
       "      <td>Neutral</td>\n",
       "      <td>1</td>\n",
       "      <td>1</td>\n",
       "      <td>en</td>\n",
       "      <td>0</td>\n",
       "      <td>KwaMaphumulo</td>\n",
       "      <td>Durban</td>\n",
       "      <td>longitude=30.8789097, latitude=-30.055938</td>\n",
       "      <td>Rural</td>\n",
       "      <td>KwaZulu-Natal</td>\n",
       "      <td>0</td>\n",
       "    </tr>\n",
       "  </tbody>\n",
       "</table>\n",
       "</div>"
      ],
      "text/plain": [
       "       Unnamed: 0 DateCreated TimeCreated  \\\n",
       "2632         2632  2022-04-03    20:09:26   \n",
       "12202       12202  2019-09-23    07:34:03   \n",
       "8045         8045  2021-02-24    08:27:34   \n",
       "935           935  2022-05-15    06:42:23   \n",
       "4759         4759  2022-02-23    09:55:41   \n",
       "\n",
       "                                            CleanedTweet Sentiment Likes  \\\n",
       "2632      They fought against the Cuba donation. They...  Positive     0   \n",
       "12202   If they’ll authorize that damage then they mu...   neutral     1   \n",
       "8045     do you know where she was coming from?  has ...  Negative     0   \n",
       "935                                        Everywhere !!  Positive     1   \n",
       "4759                                  Khoza is a smal...   Neutral     1   \n",
       "\n",
       "       No of replies Language  Retweets  \\\n",
       "2632               0       en         0   \n",
       "12202              0       en         0   \n",
       "8045               2       en         0   \n",
       "935                0       en         0   \n",
       "4759               1       en         0   \n",
       "\n",
       "                                  User Location  Tweet Origin  \\\n",
       "2632              Ga-Matlala A Thaba, Moetagare       Springs   \n",
       "12202  Phokoane Ga-Sekhukhune Limpopo Province.      Randburg   \n",
       "8045                 Johannesburg, South Africa  Johannesburg   \n",
       "935                   Krugersdorp, South Africa   Munsieville   \n",
       "4759                              KwaMaphumulo         Durban   \n",
       "\n",
       "                                      Coordinates District       Province  \\\n",
       "2632   longitude=28.3884227, latitude=-26.3364754    Urban        Gauteng   \n",
       "12202  longitude=27.8925632, latitude=-26.1368652    urban        Gauteng   \n",
       "8045   longitude=27.7518557, latitude=-26.5126489    Urban        Gauteng   \n",
       "935    longitude=27.7462384, latitude=-26.0830053    Rural        Gauteng   \n",
       "4759    longitude=30.8789097, latitude=-30.055938    Rural  KwaZulu-Natal   \n",
       "\n",
       "      Number of Attacks  \n",
       "2632                  0  \n",
       "12202                 0  \n",
       "8045                  0  \n",
       "935                   0  \n",
       "4759                  0  "
      ]
     },
     "execution_count": 71,
     "metadata": {},
     "output_type": "execute_result"
    }
   ],
   "source": [
    "#Data loading.\n",
    "\n",
    "file = read_csv('SA_XenoDataset_2017-2022.csv')\n",
    "df1 = file.copy()\n",
    "df1.sample(5)"
   ]
  },
  {
   "cell_type": "code",
   "execution_count": 72,
   "id": "b6d8e197",
   "metadata": {},
   "outputs": [
    {
     "name": "stdout",
     "output_type": "stream",
     "text": [
      "<class 'pandas.core.frame.DataFrame'>\n",
      "RangeIndex: 15912 entries, 0 to 15911\n",
      "Data columns (total 15 columns):\n",
      " #   Column             Non-Null Count  Dtype \n",
      "---  ------             --------------  ----- \n",
      " 0   Unnamed: 0         15912 non-null  int64 \n",
      " 1   DateCreated        15912 non-null  object\n",
      " 2   TimeCreated        15912 non-null  object\n",
      " 3   CleanedTweet       15908 non-null  object\n",
      " 4   Sentiment          15912 non-null  object\n",
      " 5   Likes              15912 non-null  object\n",
      " 6   No of replies      15912 non-null  int64 \n",
      " 7   Language           15912 non-null  object\n",
      " 8   Retweets           15912 non-null  int64 \n",
      " 9   User Location      15912 non-null  object\n",
      " 10  Tweet Origin       15912 non-null  object\n",
      " 11  Coordinates        15909 non-null  object\n",
      " 12  District           15912 non-null  object\n",
      " 13  Province           15912 non-null  object\n",
      " 14  Number of Attacks  15912 non-null  object\n",
      "dtypes: int64(3), object(12)\n",
      "memory usage: 1.8+ MB\n"
     ]
    }
   ],
   "source": [
    "df1.info()"
   ]
  },
  {
   "cell_type": "code",
   "execution_count": 73,
   "id": "46d5cdcd",
   "metadata": {},
   "outputs": [
    {
     "data": {
      "text/plain": [
       "Unnamed: 0           0\n",
       "DateCreated          0\n",
       "TimeCreated          0\n",
       "CleanedTweet         4\n",
       "Sentiment            0\n",
       "Likes                0\n",
       "No of replies        0\n",
       "Language             0\n",
       "Retweets             0\n",
       "User Location        0\n",
       "Tweet Origin         0\n",
       "Coordinates          3\n",
       "District             0\n",
       "Province             0\n",
       "Number of Attacks    0\n",
       "dtype: int64"
      ]
     },
     "execution_count": 73,
     "metadata": {},
     "output_type": "execute_result"
    }
   ],
   "source": [
    "df1.isnull().sum()"
   ]
  },
  {
   "cell_type": "markdown",
   "id": "b11d6d36",
   "metadata": {},
   "source": [
    "There are 4 null values in  CleanedTweet column"
   ]
  },
  {
   "cell_type": "code",
   "execution_count": 74,
   "id": "29cb0fdd",
   "metadata": {},
   "outputs": [
    {
     "name": "stdout",
     "output_type": "stream",
     "text": [
      "<class 'pandas.core.frame.DataFrame'>\n",
      "RangeIndex: 15509 entries, 0 to 15508\n",
      "Data columns (total 2 columns):\n",
      " #   Column        Non-Null Count  Dtype \n",
      "---  ------        --------------  ----- \n",
      " 0   CleanedTweet  15509 non-null  object\n",
      " 1   Sentiment     15509 non-null  object\n",
      "dtypes: object(2)\n",
      "memory usage: 242.5+ KB\n"
     ]
    }
   ],
   "source": [
    "#Removing null values.\n",
    "\n",
    "df1 = df1[['CleanedTweet','Sentiment']].dropna()\n",
    "\n",
    "#Removing tweets that contains less than 3 words.\n",
    "\n",
    "df1 = DataFrame([i for i in df1.to_numpy().tolist() if len(i[0].split())>2],columns=df1.columns)\n",
    "\n",
    "\n",
    "df1.info()"
   ]
  },
  {
   "cell_type": "markdown",
   "id": "0afb6c6d",
   "metadata": {},
   "source": [
    "According to the file description on the website there are 3 types of sentiments in data."
   ]
  },
  {
   "cell_type": "markdown",
   "id": "dfae7ac3",
   "metadata": {},
   "source": [
    "Negative (we consider them as Xenophobic tweets),\n",
    "Neutral,\n",
    "Positive (we consider them as No-Xenophobic tweets)"
   ]
  },
  {
   "cell_type": "markdown",
   "id": "9a07f15d",
   "metadata": {},
   "source": [
    "Since there are many typo in sentiment, We have to separate them by code below:"
   ]
  },
  {
   "cell_type": "code",
   "execution_count": 75,
   "id": "96f49c5b",
   "metadata": {},
   "outputs": [],
   "source": [
    "#Assigning 1 to negative tweets and 0 to the rest.\n",
    "\n",
    "lbl = [1 if l.lower().strip().startswith('neg') else 0 for l in df1.Sentiment]\n",
    "\n",
    "#Attaching new label column to data.  \n",
    "    \n",
    "df1 = concat([df1,DataFrame(lbl,index=df1.index,columns=['Label'])],axis=1)"
   ]
  },
  {
   "cell_type": "code",
   "execution_count": 76,
   "id": "11a4f8d7",
   "metadata": {},
   "outputs": [
    {
     "data": {
      "text/html": [
       "<div>\n",
       "<style scoped>\n",
       "    .dataframe tbody tr th:only-of-type {\n",
       "        vertical-align: middle;\n",
       "    }\n",
       "\n",
       "    .dataframe tbody tr th {\n",
       "        vertical-align: top;\n",
       "    }\n",
       "\n",
       "    .dataframe thead th {\n",
       "        text-align: right;\n",
       "    }\n",
       "</style>\n",
       "<table border=\"1\" class=\"dataframe\">\n",
       "  <thead>\n",
       "    <tr style=\"text-align: right;\">\n",
       "      <th></th>\n",
       "      <th>CleanedTweet</th>\n",
       "      <th>Sentiment</th>\n",
       "      <th>Label</th>\n",
       "    </tr>\n",
       "  </thead>\n",
       "  <tbody>\n",
       "    <tr>\n",
       "      <th>13730</th>\n",
       "      <td>Farm murders are actually very common in SA ...</td>\n",
       "      <td>Negative</td>\n",
       "      <td>1</td>\n",
       "    </tr>\n",
       "    <tr>\n",
       "      <th>13133</th>\n",
       "      <td>Are South Africans foreigners? Subhayiza man...</td>\n",
       "      <td>Positive</td>\n",
       "      <td>0</td>\n",
       "    </tr>\n",
       "    <tr>\n",
       "      <th>6870</th>\n",
       "      <td>Never has! I hear they say employers can now ...</td>\n",
       "      <td>Negative</td>\n",
       "      <td>1</td>\n",
       "    </tr>\n",
       "    <tr>\n",
       "      <th>11677</th>\n",
       "      <td>Illegal immigrants, drug mules, brothel owners...</td>\n",
       "      <td>negative</td>\n",
       "      <td>1</td>\n",
       "    </tr>\n",
       "    <tr>\n",
       "      <th>12443</th>\n",
       "      <td>Shoprite, woolworths and all these big multin...</td>\n",
       "      <td>Neutral</td>\n",
       "      <td>0</td>\n",
       "    </tr>\n",
       "    <tr>\n",
       "      <th>5981</th>\n",
       "      <td>The only way to reclaim our country,deal with ...</td>\n",
       "      <td>Negative</td>\n",
       "      <td>1</td>\n",
       "    </tr>\n",
       "    <tr>\n",
       "      <th>9327</th>\n",
       "      <td>I feel like the words homophobia and xenophobi...</td>\n",
       "      <td>Neutral</td>\n",
       "      <td>0</td>\n",
       "    </tr>\n",
       "    <tr>\n",
       "      <th>15433</th>\n",
       "      <td>if only Gigaba worked with Mashaba in solving...</td>\n",
       "      <td>Negative</td>\n",
       "      <td>1</td>\n",
       "    </tr>\n",
       "    <tr>\n",
       "      <th>1163</th>\n",
       "      <td>You know !!! it’s only the foreigners ...</td>\n",
       "      <td>Neutral</td>\n",
       "      <td>0</td>\n",
       "    </tr>\n",
       "    <tr>\n",
       "      <th>12738</th>\n",
       "      <td>So In the recent events of child trafficking ...</td>\n",
       "      <td>neutral</td>\n",
       "      <td>0</td>\n",
       "    </tr>\n",
       "  </tbody>\n",
       "</table>\n",
       "</div>"
      ],
      "text/plain": [
       "                                            CleanedTweet Sentiment  Label\n",
       "13730    Farm murders are actually very common in SA ...  Negative      1\n",
       "13133    Are South Africans foreigners? Subhayiza man...  Positive      0\n",
       "6870    Never has! I hear they say employers can now ...  Negative      1\n",
       "11677  Illegal immigrants, drug mules, brothel owners...  negative      1\n",
       "12443   Shoprite, woolworths and all these big multin...   Neutral      0\n",
       "5981   The only way to reclaim our country,deal with ...  Negative      1\n",
       "9327   I feel like the words homophobia and xenophobi...   Neutral      0\n",
       "15433   if only Gigaba worked with Mashaba in solving...  Negative      1\n",
       "1163           You know !!! it’s only the foreigners ...   Neutral      0\n",
       "12738   So In the recent events of child trafficking ...   neutral      0"
      ]
     },
     "execution_count": 76,
     "metadata": {},
     "output_type": "execute_result"
    }
   ],
   "source": [
    "df1.sample(10)"
   ]
  },
  {
   "cell_type": "code",
   "execution_count": 77,
   "id": "958a6c5c",
   "metadata": {},
   "outputs": [
    {
     "data": {
      "text/plain": [
       "Label\n",
       "1    8945\n",
       "0    6564\n",
       "Name: count, dtype: int64"
      ]
     },
     "execution_count": 77,
     "metadata": {},
     "output_type": "execute_result"
    }
   ],
   "source": [
    "df1.Label.value_counts()"
   ]
  },
  {
   "cell_type": "markdown",
   "id": "f1cefa7a",
   "metadata": {},
   "source": [
    "After a few hours working on different models, I made a decision to change structure of data by adding some new data from another file."
   ]
  },
  {
   "cell_type": "markdown",
   "id": "9cd2c798",
   "metadata": {},
   "source": [
    "'file2' content is downloaded from: https://www.kaggle.com/datasets/buchali/xenophobia"
   ]
  },
  {
   "cell_type": "code",
   "execution_count": 78,
   "id": "f4cf014d",
   "metadata": {},
   "outputs": [
    {
     "name": "stdout",
     "output_type": "stream",
     "text": [
      "<class 'pandas.core.frame.DataFrame'>\n",
      "RangeIndex: 3424 entries, 0 to 3423\n",
      "Data columns (total 3 columns):\n",
      " #   Column      Non-Null Count  Dtype \n",
      "---  ------      --------------  ----- \n",
      " 0   Unnamed: 0  3424 non-null   int64 \n",
      " 1   Text        3424 non-null   object\n",
      " 2   xenophobia  3424 non-null   bool  \n",
      "dtypes: bool(1), int64(1), object(1)\n",
      "memory usage: 57.0+ KB\n"
     ]
    }
   ],
   "source": [
    "#Data loading.\n",
    "\n",
    "file2 = read_csv('xeno.csv')\n",
    "df2 = file2.copy()\n",
    "df2.info()"
   ]
  },
  {
   "cell_type": "code",
   "execution_count": 79,
   "id": "eed822dc",
   "metadata": {},
   "outputs": [
    {
     "data": {
      "text/html": [
       "<div>\n",
       "<style scoped>\n",
       "    .dataframe tbody tr th:only-of-type {\n",
       "        vertical-align: middle;\n",
       "    }\n",
       "\n",
       "    .dataframe tbody tr th {\n",
       "        vertical-align: top;\n",
       "    }\n",
       "\n",
       "    .dataframe thead th {\n",
       "        text-align: right;\n",
       "    }\n",
       "</style>\n",
       "<table border=\"1\" class=\"dataframe\">\n",
       "  <thead>\n",
       "    <tr style=\"text-align: right;\">\n",
       "      <th></th>\n",
       "      <th>CleanedTweet</th>\n",
       "      <th>Label</th>\n",
       "    </tr>\n",
       "  </thead>\n",
       "  <tbody>\n",
       "    <tr>\n",
       "      <th>273</th>\n",
       "      <td>Do you know?  \\nNow in Japan,45% of COVID19 in...</td>\n",
       "      <td>1</td>\n",
       "    </tr>\n",
       "    <tr>\n",
       "      <th>571</th>\n",
       "      <td>Why kill others?  \\nMan who had coronavirus ap...</td>\n",
       "      <td>1</td>\n",
       "    </tr>\n",
       "    <tr>\n",
       "      <th>1158</th>\n",
       "      <td>Hey Tam,  nothing like calling the kettle blac...</td>\n",
       "      <td>1</td>\n",
       "    </tr>\n",
       "    <tr>\n",
       "      <th>2869</th>\n",
       "      <td>Completely agree,why should our precious virus...</td>\n",
       "      <td>1</td>\n",
       "    </tr>\n",
       "    <tr>\n",
       "      <th>3159</th>\n",
       "      <td>What's happening in this country ? Why foreign...</td>\n",
       "      <td>1</td>\n",
       "    </tr>\n",
       "    <tr>\n",
       "      <th>802</th>\n",
       "      <td>This is their last chance they must do their w...</td>\n",
       "      <td>1</td>\n",
       "    </tr>\n",
       "    <tr>\n",
       "      <th>574</th>\n",
       "      <td>Eight caught in Phuket for violating curfew - ...</td>\n",
       "      <td>1</td>\n",
       "    </tr>\n",
       "    <tr>\n",
       "      <th>2625</th>\n",
       "      <td>The same   Administration that wants to keep o...</td>\n",
       "      <td>1</td>\n",
       "    </tr>\n",
       "    <tr>\n",
       "      <th>385</th>\n",
       "      <td>Tablighi Jamat have done a criminal act.  The ...</td>\n",
       "      <td>1</td>\n",
       "    </tr>\n",
       "    <tr>\n",
       "      <th>1775</th>\n",
       "      <td>Foreigners doing the most in the crime industr...</td>\n",
       "      <td>1</td>\n",
       "    </tr>\n",
       "  </tbody>\n",
       "</table>\n",
       "</div>"
      ],
      "text/plain": [
       "                                           CleanedTweet  Label\n",
       "273   Do you know?  \\nNow in Japan,45% of COVID19 in...      1\n",
       "571   Why kill others?  \\nMan who had coronavirus ap...      1\n",
       "1158  Hey Tam,  nothing like calling the kettle blac...      1\n",
       "2869  Completely agree,why should our precious virus...      1\n",
       "3159  What's happening in this country ? Why foreign...      1\n",
       "802   This is their last chance they must do their w...      1\n",
       "574   Eight caught in Phuket for violating curfew - ...      1\n",
       "2625  The same   Administration that wants to keep o...      1\n",
       "385   Tablighi Jamat have done a criminal act.  The ...      1\n",
       "1775  Foreigners doing the most in the crime industr...      1"
      ]
     },
     "execution_count": 79,
     "metadata": {},
     "output_type": "execute_result"
    }
   ],
   "source": [
    "#All texts are Xenophobic.\n",
    "\n",
    "df2 = df2['Text']\n",
    "\n",
    "#Assigning 1 to texts.\n",
    "\n",
    "df2 = concat([df2,DataFrame([1 for i in range(len(df2))],index=df2.index,columns=['Label'])],axis=1)\n",
    "df2.columns = ['CleanedTweet','Label']\n",
    "df2.sample(10)"
   ]
  },
  {
   "cell_type": "code",
   "execution_count": 80,
   "id": "164cd8f6",
   "metadata": {},
   "outputs": [],
   "source": [
    "#Separating rows that starts with 'p' letter in the first dataframe.\n",
    "\n",
    "pos_df = DataFrame([i for i in df1.to_numpy().tolist() if i[1].lower().strip().startswith('p')],\n",
    "                columns=df1.columns)\n",
    "\n",
    "pos_df = pos_df.drop(['Sentiment'],axis=1)\n",
    "\n",
    "#Making an unique dataframe from two dataframes.\n",
    "#Actually No-Xenphobic texts are choosed from first dataframe with sentiment positive\n",
    "#and Xenophobic one's are choosed from second dataframe.\n",
    "\n",
    "df1 = concat([pos_df,df2],axis=0)"
   ]
  },
  {
   "cell_type": "code",
   "execution_count": 81,
   "id": "c0367baa",
   "metadata": {},
   "outputs": [
    {
     "name": "stdout",
     "output_type": "stream",
     "text": [
      "<class 'pandas.core.frame.DataFrame'>\n",
      "Index: 5782 entries, 0 to 3423\n",
      "Data columns (total 2 columns):\n",
      " #   Column        Non-Null Count  Dtype \n",
      "---  ------        --------------  ----- \n",
      " 0   CleanedTweet  5782 non-null   object\n",
      " 1   Label         5782 non-null   int64 \n",
      "dtypes: int64(1), object(1)\n",
      "memory usage: 135.5+ KB\n"
     ]
    }
   ],
   "source": [
    "df1.info()"
   ]
  },
  {
   "cell_type": "code",
   "execution_count": 82,
   "id": "fa77ee2f",
   "metadata": {},
   "outputs": [
    {
     "data": {
      "text/plain": [
       "Label\n",
       "1    3424\n",
       "0    2358\n",
       "Name: count, dtype: int64"
      ]
     },
     "execution_count": 82,
     "metadata": {},
     "output_type": "execute_result"
    }
   ],
   "source": [
    "df1.Label.value_counts()"
   ]
  },
  {
   "cell_type": "code",
   "execution_count": 83,
   "id": "9c81cf74",
   "metadata": {},
   "outputs": [
    {
     "data": {
      "image/png": "[encoded data removed]",
      "text/plain": [
       "<Figure size 640x480 with 1 Axes>"
      ]
     },
     "metadata": {},
     "output_type": "display_data"
    }
   ],
   "source": [
    "pie(df1.Label.value_counts().values,\n",
    "    autopct='%1.1f%%',\n",
    "    labels=['Xonophobic','No-Xenophobic'])\n",
    "title('Distribution of labels')\n",
    "show()"
   ]
  },
  {
   "cell_type": "code",
   "execution_count": 84,
   "id": "0576c2eb",
   "metadata": {},
   "outputs": [],
   "source": [
    "#Creating a function to remove stop words from each text.\n",
    "\n",
    "def Filter(text)->str:\n",
    "    '''Function Docstring'''\n",
    "    stopwords = [\"a\", \"about\", \"above\", \"after\",\n",
    "                 \"again\", \"against\", \"all\", \"am\", \"an\", \"and\",\n",
    "                 \"any\", \"are\", \"as\", \"at\", \"be\", \"because\",\n",
    "                 \"been\", \"before\", \"being\", \"below\", \"between\", \"both\", \"but\",\n",
    "                 \"by\", \"could\", \"did\", \"do\", \"does\", \"doing\", \"down\", \"during\",\n",
    "                 \"each\", \"few\", \"for\", \"from\", \"further\", \"had\", \"has\", \"have\",\n",
    "                 \"having\", \"he\", \"he'd\", \"he'll\", \"he's\", \"her\", \"here\", \"here's\", \"hers\", \n",
    "                 \"herself\", \"him\", \"himself\", \"his\", \"how\", \"how's\", \"i\", \"i'd\",\n",
    "                 \"i'll\", \"i'm\", \"i've\", \"if\", \"in\", \"into\", \"is\", \"it\", \"it's\",\n",
    "                 \"its\", \"itself\", \"let's\", \"me\", \"more\", \"most\", \"my\", \"myself\",\n",
    "                 \"nor\", \"of\", \"on\", \"once\", \"only\", \"or\", \"other\", \"ought\", \"our\", \"ours\",\n",
    "                 \"ourselves\", \"out\", \"over\", \"own\", \"same\", \"she\", \"she'd\", \"she'll\", \"she's\",\n",
    "                 \"should\", \"so\", \"some\", \"such\", \"than\", \"that\", \"that's\", \"the\", \"their\",\n",
    "                 \"theirs\", \"them\", \"themselves\", \"then\", \"there\", \"there's\", \"these\", \"they\",\n",
    "                 \"they'd\", \"they'll\", \"they're\", \"they've\", \"this\", \"those\", \"through\", \"to\",\n",
    "                 \"too\", \"under\", \"until\", \"up\", \"very\", \"was\", \"we\", \"we'd\", \"we'll\", \"we're\",\n",
    "                 \"we've\", \"were\", \"what\", \"what's\", \"when\", \"when's\", \"where\", \"where's\", \"which\",\n",
    "                 \"while\", \"who\", \"who's\", \"whom\", \"why\", \"why's\", \"with\", \"would\", \"you\", \"you'd\",\n",
    "                 \"you'll\", \"you're\", \"you've\", \"your\", \"yours\", \"yourself\", \"yourselves\" ]\n",
    "    \n",
    "    result = [word for word in text.lower().split() if word not in stopwords]\n",
    "    return ' '.join(result)"
   ]
  },
  {
   "cell_type": "code",
   "execution_count": 85,
   "id": "e034b1cd",
   "metadata": {},
   "outputs": [],
   "source": [
    "#Removing stopwords from texts.\n",
    "\n",
    "features = [Filter(text) for text in df1.CleanedTweet]\n",
    "\n",
    "#Encoding each text words.\n",
    "\n",
    "tokenizer.fit_on_texts(features)\n",
    "\n",
    "#Saving the tokenizer object.\n",
    "\n",
    "with open('tknizer_X.pkl','wb') as terget_file:\n",
    "    dump(tokenizer,terget_file)"
   ]
  },
  {
   "cell_type": "code",
   "execution_count": 86,
   "id": "6ce2017b",
   "metadata": {},
   "outputs": [
    {
     "data": {
      "text/plain": [
       "(5782, 50)"
      ]
     },
     "execution_count": 86,
     "metadata": {},
     "output_type": "execute_result"
    }
   ],
   "source": [
    "#Making sequences of numbers from encoded texts.\n",
    "\n",
    "sequences = tokenizer.texts_to_sequences(features)\n",
    "\n",
    "#Making a shaped matrix from sequences.\n",
    "\n",
    "max_len=50\n",
    "matrix = pad_sequences(sequences,padding='post',truncating='post',maxlen=max_len)\n",
    "matrix.shape"
   ]
  },
  {
   "cell_type": "code",
   "execution_count": 87,
   "id": "ae43bc26",
   "metadata": {},
   "outputs": [],
   "source": [
    "#Splitting data to train and validation sets.\n",
    "#80% of data are considered as train set.\n",
    "\n",
    "xtr , xts , ytr , yts = train_test_split(matrix,df1.Label.to_numpy(),test_size=0.2,random_state=0)"
   ]
  },
  {
   "cell_type": "code",
   "execution_count": 88,
   "id": "bf32ef2f",
   "metadata": {},
   "outputs": [
    {
     "data": {
      "image/png": "[encoded data removed]",
      "text/plain": [
       "<Figure size 640x480 with 1 Axes>"
      ]
     },
     "metadata": {},
     "output_type": "display_data"
    }
   ],
   "source": [
    "pie([ytr.tolist().count(0),ytr.tolist().count(1)],\n",
    "    labels=['No-Xenophobic','Xenophobic'],\n",
    "    autopct='%1.1f%%',\n",
    "    colors=['green','red'])\n",
    "title('Distribution of labels in train set')\n",
    "show()"
   ]
  },
  {
   "cell_type": "code",
   "execution_count": 89,
   "id": "a65be54d",
   "metadata": {},
   "outputs": [
    {
     "data": {
      "image/png": "[encoded data removed]",
      "text/plain": [
       "<Figure size 640x480 with 1 Axes>"
      ]
     },
     "metadata": {},
     "output_type": "display_data"
    }
   ],
   "source": [
    "pie([yts.tolist().count(0),yts.tolist().count(1)],\n",
    "    labels=['No-Xenophobic','Xenophobic'],\n",
    "    autopct='%1.1f%%',\n",
    "    colors=['green','red'])\n",
    "title('Distribution of labels in test set')\n",
    "show()"
   ]
  },
  {
   "cell_type": "code",
   "execution_count": 90,
   "id": "05ddf7e9",
   "metadata": {},
   "outputs": [
    {
     "name": "stdout",
     "output_type": "stream",
     "text": [
      "Train size: 4625\n",
      "Test size 1157\n"
     ]
    }
   ],
   "source": [
    "print('Train size:',len(xtr))\n",
    "print('Test size',len(xts))"
   ]
  },
  {
   "cell_type": "markdown",
   "id": "0d3bdc02",
   "metadata": {},
   "source": [
    " "
   ]
  },
  {
   "cell_type": "markdown",
   "id": "a9a37366",
   "metadata": {},
   "source": [
    "# Phase 2: Modeling, Training"
   ]
  },
  {
   "cell_type": "code",
   "execution_count": 91,
   "id": "14798ced",
   "metadata": {},
   "outputs": [],
   "source": [
    "#Creating an embedding deep neural network from scratch.\n",
    "\n",
    "model = Sequential([Embedding(len(tokenizer.word_index)+1,64,input_length=max_len),\n",
    "                    GlobalMaxPooling1D(),\n",
    "                    Dense(1, activation='sigmoid')])\n",
    "#Compiling the model.\n",
    "\n",
    "model.compile(optimizer='adam',\n",
    "              loss='binary_crossentropy',\n",
    "              metrics=['accuracy'])"
   ]
  },
  {
   "cell_type": "code",
   "execution_count": 92,
   "id": "ebed7647",
   "metadata": {},
   "outputs": [
    {
     "name": "stdout",
     "output_type": "stream",
     "text": [
      "Epoch 1/20\n",
      "145/145 [==============================] - 1s 6ms/step - loss: 0.6462 - accuracy: 0.5985 - val_loss: 0.5817 - val_accuracy: 0.6975\n",
      "Epoch 2/20\n",
      "145/145 [==============================] - 1s 5ms/step - loss: 0.4753 - accuracy: 0.8201 - val_loss: 0.4074 - val_accuracy: 0.8462\n",
      "Epoch 3/20\n",
      "145/145 [==============================] - 1s 5ms/step - loss: 0.2971 - accuracy: 0.9412 - val_loss: 0.3058 - val_accuracy: 0.9075\n",
      "Epoch 4/20\n",
      "145/145 [==============================] - 1s 5ms/step - loss: 0.1974 - accuracy: 0.9617 - val_loss: 0.2602 - val_accuracy: 0.9170\n",
      "Epoch 5/20\n",
      "145/145 [==============================] - 1s 5ms/step - loss: 0.1405 - accuracy: 0.9710 - val_loss: 0.2366 - val_accuracy: 0.9188\n",
      "Epoch 6/20\n",
      "145/145 [==============================] - 1s 6ms/step - loss: 0.1038 - accuracy: 0.9795 - val_loss: 0.2236 - val_accuracy: 0.9188\n",
      "Epoch 7/20\n",
      "145/145 [==============================] - 1s 6ms/step - loss: 0.0782 - accuracy: 0.9859 - val_loss: 0.2156 - val_accuracy: 0.9205\n",
      "Epoch 8/20\n",
      "145/145 [==============================] - 1s 6ms/step - loss: 0.0596 - accuracy: 0.9907 - val_loss: 0.2116 - val_accuracy: 0.9196\n",
      "Epoch 9/20\n",
      "145/145 [==============================] - 1s 5ms/step - loss: 0.0460 - accuracy: 0.9935 - val_loss: 0.2088 - val_accuracy: 0.9179\n",
      "Epoch 10/20\n",
      "145/145 [==============================] - 1s 5ms/step - loss: 0.0360 - accuracy: 0.9961 - val_loss: 0.2081 - val_accuracy: 0.9170\n",
      "Epoch 11/20\n",
      "145/145 [==============================] - 1s 5ms/step - loss: 0.0283 - accuracy: 0.9963 - val_loss: 0.2075 - val_accuracy: 0.9162\n",
      "Epoch 12/20\n",
      "145/145 [==============================] - 1s 4ms/step - loss: 0.0225 - accuracy: 0.9974 - val_loss: 0.2083 - val_accuracy: 0.9144\n",
      "Epoch 13/20\n",
      "145/145 [==============================] - 1s 4ms/step - loss: 0.0181 - accuracy: 0.9989 - val_loss: 0.2088 - val_accuracy: 0.9153\n",
      "Epoch 14/20\n",
      "145/145 [==============================] - 1s 4ms/step - loss: 0.0147 - accuracy: 0.9991 - val_loss: 0.2101 - val_accuracy: 0.9162\n",
      "Epoch 15/20\n",
      "145/145 [==============================] - 1s 4ms/step - loss: 0.0121 - accuracy: 0.9994 - val_loss: 0.2109 - val_accuracy: 0.9162\n",
      "Epoch 16/20\n",
      "145/145 [==============================] - 1s 4ms/step - loss: 0.0101 - accuracy: 0.9996 - val_loss: 0.2120 - val_accuracy: 0.9170\n",
      "Epoch 17/20\n",
      "145/145 [==============================] - 1s 4ms/step - loss: 0.0085 - accuracy: 0.9996 - val_loss: 0.2135 - val_accuracy: 0.9162\n",
      "Epoch 18/20\n",
      "145/145 [==============================] - 1s 4ms/step - loss: 0.0072 - accuracy: 0.9996 - val_loss: 0.2147 - val_accuracy: 0.9170\n",
      "Epoch 19/20\n",
      "145/145 [==============================] - 1s 4ms/step - loss: 0.0062 - accuracy: 0.9998 - val_loss: 0.2162 - val_accuracy: 0.9153\n",
      "Epoch 20/20\n",
      "145/145 [==============================] - 1s 4ms/step - loss: 0.0053 - accuracy: 0.9998 - val_loss: 0.2176 - val_accuracy: 0.9144\n"
     ]
    }
   ],
   "source": [
    "#Data train.\n",
    "\n",
    "history = model.fit(xtr,ytr,epochs=20,validation_data=(xts,yts))"
   ]
  },
  {
   "cell_type": "code",
   "execution_count": 93,
   "id": "2449b641",
   "metadata": {},
   "outputs": [
    {
     "data": {
      "image/png": "[encoded data removed]",
      "text/plain": [
       "<Figure size 640x480 with 1 Axes>"
      ]
     },
     "metadata": {},
     "output_type": "display_data"
    },
    {
     "data": {
      "image/png": "[encoded data removed]",
      "text/plain": [
       "<Figure size 640x480 with 1 Axes>"
      ]
     },
     "metadata": {},
     "output_type": "display_data"
    }
   ],
   "source": [
    "epoch = range(1,len(history.epoch)+1)\n",
    "results = history.history\n",
    "plot(epoch,results['accuracy'],'blue')\n",
    "plot(epoch,results['val_accuracy'],'green')\n",
    "xlabel('Epochs')\n",
    "ylabel('Accuracy')\n",
    "title('Xenophobic_detection_notebook')\n",
    "legend(['Train','Valid'])\n",
    "show()\n",
    "plot(epoch,results['loss'],'black')\n",
    "plot(epoch,results['val_loss'],'red')\n",
    "xlabel('Epochs')\n",
    "ylabel('Loss')\n",
    "title('Xenophobic_detection_notebook')\n",
    "legend(['Train','Valid'])\n",
    "show()"
   ]
  },
  {
   "cell_type": "code",
   "execution_count": 94,
   "id": "df18d0a2",
   "metadata": {},
   "outputs": [
    {
     "name": "stdout",
     "output_type": "stream",
     "text": [
      "INFO:tensorflow:Assets written to: Xenophobia_detection_model\\assets\n"
     ]
    },
    {
     "name": "stderr",
     "output_type": "stream",
     "text": [
      "INFO:tensorflow:Assets written to: Xenophobia_detection_model\\assets\n"
     ]
    }
   ],
   "source": [
    "#Saving the model.\n",
    "\n",
    "model.save('Xenophobia_detection_model')"
   ]
  },
  {
   "cell_type": "markdown",
   "id": "ee93ed79",
   "metadata": {},
   "source": [
    "# End"
   ]
  }
 ],
 "metadata": {
  "kernelspec": {
   "display_name": "Python 3 (ipykernel)",
   "language": "python",
   "name": "python3"
  },
  "language_info": {
   "codemirror_mode": {
    "name": "ipython",
    "version": 3
   },
   "file_extension": ".py",
   "mimetype": "text/x-python",
   "name": "python",
   "nbconvert_exporter": "python",
   "pygments_lexer": "ipython3",
   "version": "3.11.5"
  }
 },
 "nbformat": 4,
 "nbformat_minor": 5
}
